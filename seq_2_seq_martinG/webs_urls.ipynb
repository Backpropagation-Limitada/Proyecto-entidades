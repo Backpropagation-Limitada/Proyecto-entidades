{
 "cells": [
  {
   "cell_type": "code",
   "execution_count": null,
   "metadata": {},
   "outputs": [],
   "source": [
    "from selenium import webdriver\n",
    "import pandas as pd\n",
    "from newspaper import Article\n",
    "import nltk\n",
    "from skimage import io\n",
    "import matplotlib.pyplot as plt\n",
    "import time\n",
    "\n",
    "#este algoritmo conbinando newspaper ,skimage de sklearn podremos extraer informacion de urls y armar un dataset.\n",
    "\n",
    "datos={'url':[],'titulo':[],'autor':[],'imagenes':[],'html':[],'descripcion':[]}\n",
    "for i in range(1,len(urls['url'])):\n",
    "    url1=urls['url'][i]\n",
    "    article=Article(url1)\n",
    "    article.download()\n",
    "    article.parse()\n",
    "    autor=article.authors\n",
    "    images=article.images\n",
    "    titulo=article.title\n",
    "    article.nlp()\n",
    "    metad=article.meta_description\n",
    "    html=article.html\n",
    "    k=[]\n",
    "    \n",
    "\n",
    "            \n",
    "    if autor and titulo:\n",
    "        \n",
    "        for c in images:\n",
    "            try:\n",
    "                img=io.imread(r'{}'.format(c))\n",
    "                k.append(img)\n",
    "            except:\n",
    "                continue\n",
    "        \n",
    "        \n",
    "        try:\n",
    "            datos['url'].append(url1)\n",
    "            datos['titulo'].append(titulo)\n",
    "            datos['autor'].append(autor)\n",
    "            datos['imagenes'].append(k)\n",
    "            datos['html'].append(html)\n",
    "            datos['descripcion'].append(metad)\n",
    "        except Exception as e:\n",
    "            print(e)\n",
    "            continue"
   ]
  }
 ],
 "metadata": {
  "kernelspec": {
   "display_name": "Python 3",
   "language": "python",
   "name": "python3"
  },
  "language_info": {
   "codemirror_mode": {
    "name": "ipython",
    "version": 3
   },
   "file_extension": ".py",
   "mimetype": "text/x-python",
   "name": "python",
   "nbconvert_exporter": "python",
   "pygments_lexer": "ipython3",
   "version": "3.7.3"
  }
 },
 "nbformat": 4,
 "nbformat_minor": 2
}
